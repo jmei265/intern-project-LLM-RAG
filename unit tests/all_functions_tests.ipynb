{
 "cells": [
  {
   "cell_type": "code",
   "execution_count": 4,
   "metadata": {},
   "outputs": [
    {
     "ename": "ModuleNotFoundError",
     "evalue": "No module named 'streamlit_llama3'",
     "output_type": "error",
     "traceback": [
      "\u001b[0;31m---------------------------------------------------------------------------\u001b[0m",
      "\u001b[0;31mModuleNotFoundError\u001b[0m                       Traceback (most recent call last)",
      "Cell \u001b[0;32mIn[4], line 4\u001b[0m\n\u001b[1;32m      2\u001b[0m \u001b[38;5;28;01mfrom\u001b[39;00m \u001b[38;5;21;01munittest\u001b[39;00m\u001b[38;5;21;01m.\u001b[39;00m\u001b[38;5;21;01mmock\u001b[39;00m \u001b[38;5;28;01mimport\u001b[39;00m patch, mock_open, MagicMock\n\u001b[1;32m      3\u001b[0m \u001b[38;5;28;01mimport\u001b[39;00m \u001b[38;5;21;01mos\u001b[39;00m\n\u001b[0;32m----> 4\u001b[0m \u001b[38;5;28;01mimport\u001b[39;00m \u001b[38;5;21;01mstreamlit_llama3\u001b[39;00m\n\u001b[1;32m      5\u001b[0m \u001b[38;5;28;01mimport\u001b[39;00m \u001b[38;5;21;01msys\u001b[39;00m\n\u001b[1;32m      6\u001b[0m \u001b[38;5;66;03m# Assume the functions are imported from the file\u001b[39;00m\n\u001b[1;32m      7\u001b[0m \u001b[38;5;66;03m# from your_module import get_file_types, load_knowledgeBase, load_llm, load_prompt, format_docs\u001b[39;00m\n",
      "\u001b[0;31mModuleNotFoundError\u001b[0m: No module named 'streamlit_llama3'"
     ]
    }
   ],
   "source": [
    "import unittest\n",
    "from unittest.mock import patch, MagicMock\n",
    "import os\n",
    "import sys\n",
    "import streamlit_llama3\n",
    "\n",
    "class TestFunctions(unittest.TestCase):\n",
    "    \n",
    "    @patch('os.listdir')\n",
    "    def test_get_file_types(self, mock_listdir):\n",
    "        mock_listdir.return_value = ['file1.txt', 'file2.md', 'file3.php', 'file4.java']\n",
    "        expected_result = {'.txt', '.md', '.php', '.java'}\n",
    "        result = streamlit_llama3.get_file_types('some_directory')\n",
    "        self.assertEqual(result, expected_result)\n",
    "    \n",
    "    @patch('os.path.exists')\n",
    "    @patch('streamlit_llama3.FAISS.load_local')\n",
    "    def test_load_knowledgeBase(self, mock_load_local, mock_path_exists):\n",
    "        mock_path_exists.return_value = True\n",
    "        mock_faiss = MagicMock()\n",
    "        mock_load_local.return_value = mock_faiss\n",
    "        result = streamlit_llama3.load_knowledgeBase()\n",
    "        self.assertEqual(result, mock_faiss)\n",
    "    \n",
    "    @patch('streamlit_llama3.Ollama')\n",
    "    def test_load_llm(self, mock_ollama):\n",
    "        mock_llm = MagicMock()\n",
    "        mock_ollama.return_value = mock_llm\n",
    "        result = streamlit_llama3.load_llm()\n",
    "        self.assertEqual(result, mock_llm)\n",
    "    \n",
    "    @patch('streamlit_llama3.ChatPromptTemplate.from_template')\n",
    "    def test_load_prompt(self, mock_from_template):\n",
    "        mock_prompt = MagicMock()\n",
    "        mock_from_template.return_value = mock_prompt\n",
    "        result = streamlit_llama3.load_prompt()\n",
    "        self.assertEqual(result, mock_prompt)\n",
    "    \n",
    "    def test_format_docs(self):\n",
    "        mock_docs = [MagicMock(page_content='Content 1'), MagicMock(page_content='Content 2')]\n",
    "        expected_result = 'Content 1\\n\\nContent 2'\n",
    "        result = streamlit_llama3.format_docs(mock_docs)\n",
    "        self.assertEqual(result, expected_result)\n",
    "\n",
    "if __name__ == '__main__':\n",
    "    suite = unittest.TestLoader().loadTestsFromTestCase(TestFunctions)\n",
    "    unittest.TextTestRunner(verbosity=2, stream=sys.stderr).run(suite)\n"
   ]
  }
 ],
 "metadata": {
  "kernelspec": {
   "display_name": "Python 3",
   "language": "python",
   "name": "python3"
  },
  "language_info": {
   "codemirror_mode": {
    "name": "ipython",
    "version": 3
   },
   "file_extension": ".py",
   "mimetype": "text/x-python",
   "name": "python",
   "nbconvert_exporter": "python",
   "pygments_lexer": "ipython3",
   "version": "3.8.10"
  }
 },
 "nbformat": 4,
 "nbformat_minor": 2
}
