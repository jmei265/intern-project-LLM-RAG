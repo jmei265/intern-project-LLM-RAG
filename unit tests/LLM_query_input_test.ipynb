{
 "cells": [
  {
   "cell_type": "code",
   "execution_count": null,
   "metadata": {},
   "outputs": [],
   "source": [
    "import unittest\n",
    "from unittest.mock import MagicMock\n",
    "import sys\n",
    "\n",
    "# Mock LLM class\n",
    "class MockLLM:\n",
    "    def generate_response(self, user_input):\n",
    "        if user_input == \"Hello, LLM!\":\n",
    "            return \"Hello, user!\"\n",
    "        elif user_input == \"Tell me a joke\":\n",
    "            return \"Why did the scarecrow win an award? Because he was outstanding in his field!\"\n",
    "        else:\n",
    "            return \"I'm sorry, I don't understand that.\"\n",
    "\n",
    "class TestLLMQuery(unittest.TestCase):\n",
    "    def setUp(self):\n",
    "        self.llm = MockLLM()\n",
    "    \n",
    "    def test_greeting(self):\n",
    "        user_input = \"Hello, LLM!\"\n",
    "        expected_response = \"Hello, user!\"\n",
    "        actual_response = self.llm.generate_response(user_input)\n",
    "        self.assertEqual(actual_response, expected_response)\n",
    "    \n",
    "    def test_joke_request(self):\n",
    "        user_input = \"Tell me a joke\"\n",
    "        expected_response = \"Why did the scarecrow win an award? Because he was outstanding in his field!\"\n",
    "        actual_response = self.llm.generate_response(user_input)\n",
    "        self.assertEqual(actual_response, expected_response)\n",
    "    \n",
    "    def test_unknown_input(self):\n",
    "        user_input = \"What's the weather like?\"\n",
    "        expected_response = \"I'm sorry, I don't understand that.\"\n",
    "        actual_response = self.llm.generate_response(user_input)\n",
    "        self.assertEqual(actual_response, expected_response)\n",
    "\n",
    "if __name__ == '__main__':\n",
    "    suite = unittest.TestLoader().loadTestsFromTestCase(TestLLMQuery)\n",
    "    unittest.TextTestRunner(verbosity=4,stream=sys.stderr).run(suite)\n"
   ]
  }
 ],
 "metadata": {
  "language_info": {
   "name": "python"
  }
 },
 "nbformat": 4,
 "nbformat_minor": 2
}
