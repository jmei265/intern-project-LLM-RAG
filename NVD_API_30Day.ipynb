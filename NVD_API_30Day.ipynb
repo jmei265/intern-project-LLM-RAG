{
 "cells": [
  {
   "cell_type": "code",
   "execution_count": 1,
   "id": "9257ec05-3049-4ad2-8759-7c805359c702",
   "metadata": {},
   "outputs": [
    {
     "name": "stdout",
     "output_type": "stream",
     "text": [
      "Requirement already satisfied: boto3 in /home/ubuntu/anaconda3/lib/python3.11/site-packages (1.34.147)\n",
      "Requirement already satisfied: botocore<1.35.0,>=1.34.147 in /home/ubuntu/anaconda3/lib/python3.11/site-packages (from boto3) (1.34.147)\n",
      "Requirement already satisfied: jmespath<2.0.0,>=0.7.1 in /home/ubuntu/anaconda3/lib/python3.11/site-packages (from boto3) (1.0.1)\n",
      "Requirement already satisfied: s3transfer<0.11.0,>=0.10.0 in /home/ubuntu/anaconda3/lib/python3.11/site-packages (from boto3) (0.10.2)\n",
      "Requirement already satisfied: python-dateutil<3.0.0,>=2.1 in /home/ubuntu/anaconda3/lib/python3.11/site-packages (from botocore<1.35.0,>=1.34.147->boto3) (2.8.2)\n",
      "Requirement already satisfied: urllib3!=2.2.0,<3,>=1.25.4 in /home/ubuntu/anaconda3/lib/python3.11/site-packages (from botocore<1.35.0,>=1.34.147->boto3) (2.0.7)\n",
      "Requirement already satisfied: six>=1.5 in /home/ubuntu/anaconda3/lib/python3.11/site-packages (from python-dateutil<3.0.0,>=2.1->botocore<1.35.0,>=1.34.147->boto3) (1.16.0)\n"
     ]
    }
   ],
   "source": [
    "!pip install boto3\n"
   ]
  },
  {
   "cell_type": "code",
   "execution_count": 2,
   "id": "1fdda288-9d38-4e22-b61a-8567fb6e2f75",
   "metadata": {},
   "outputs": [],
   "source": [
    "import requests\n",
    "import json\n",
    "import os\n",
    "from datetime import datetime, timedelta\n",
    "import time\n",
    "import boto3\n",
    "from botocore.exceptions import ClientError"
   ]
  },
  {
   "cell_type": "code",
   "execution_count": 3,
   "id": "8b210ce6-952e-41d0-91c4-a76febc202e1",
   "metadata": {},
   "outputs": [],
   "source": [
    "# Use this code snippet in your app.\n",
    "# If you need more information about configurations\n",
    "# or implementing the sample code, visit the AWS docs:\n",
    "# https://aws.amazon.com/developer/language/python/\n",
    "\n",
    "def get_secret():\n",
    "\n",
    "    secret_name = \"NVD_API\"\n",
    "    region_name = \"us-east-1\"\n",
    "\n",
    "    # Create a Secrets Manager client\n",
    "    session = boto3.session.Session()\n",
    "    client = session.client(\n",
    "        service_name='secretsmanager',\n",
    "        region_name=region_name\n",
    "    )\n",
    "\n",
    "    try:\n",
    "        get_secret_value_response = client.get_secret_value(\n",
    "            SecretId=secret_name\n",
    "        )\n",
    "    except ClientError as e:\n",
    "        # For a list of exceptions thrown, see\n",
    "        # https://docs.aws.amazon.com/secretsmanager/latest/apireference/API_GetSecretValue.html\n",
    "        raise e\n",
    "\n",
    "    secret = get_secret_value_response['SecretString']"
   ]
  },
  {
   "cell_type": "code",
   "execution_count": 4,
   "id": "a4c3de86-140d-4ce8-85cc-207b8d5133bc",
   "metadata": {},
   "outputs": [
    {
     "name": "stdout",
     "output_type": "stream",
     "text": [
      "Retrieved 100 CVE records. Total so far: 100.\n",
      "Retrieved 100 CVE records. Total so far: 200.\n",
      "Retrieved 100 CVE records. Total so far: 300.\n",
      "Retrieved 72 CVE records. Total so far: 400.\n",
      "Data retrieval and storage complete.\n"
     ]
    }
   ],
   "source": [
    "\n",
    "# Define constants\n",
    "API_KEY = get_secret()\n",
    "BASE_URL = 'https://services.nvd.nist.gov/rest/json/cves/2.0'\n",
    "HEADERS = {'apiKey': API_KEY}\n",
    "RESULTS_PER_PAGE = 100  # NVD's recommended value to balance the load\n",
    "OUTPUT_DIR = 'NVD_CVE_7-23'\n",
    "SLEEP_TIME = 6  # Delay in seconds between requests\n",
    "\n",
    "# Create output directory if not exists\n",
    "if not os.path.exists(OUTPUT_DIR):\n",
    "    os.makedirs(OUTPUT_DIR)\n",
    "\n",
    "# Define the date range for the past month\n",
    "end_date = datetime.utcnow()\n",
    "start_date = end_date - timedelta(days=30)\n",
    "\n",
    "# Format dates to ISO 8601 format\n",
    "start_date_str = start_date.strftime('%Y-%m-%dT%H:%M:%S.000Z')\n",
    "end_date_str = end_date.strftime('%Y-%m-%dT%H:%M:%S.000Z')\n",
    "\n",
    "# Initialize pagination parameters\n",
    "start_index = 0\n",
    "total_results = 1  # Initialize to a non-zero value to enter the loop\n",
    "\n",
    "# Function to save a CVE record to a file\n",
    "def save_cve_record(cve_record, output_dir):\n",
    "    cve_id = cve_record['cve']['id']\n",
    "    with open(f'{output_dir}/{cve_id}.json', 'w') as file:\n",
    "        json.dump(cve_record, file, indent=2)\n",
    "\n",
    "# Retrieve and save CVE records\n",
    "while start_index < total_results:\n",
    "    params = {\n",
    "        'startIndex': start_index,\n",
    "        'resultsPerPage': RESULTS_PER_PAGE,\n",
    "        'pubStartDate': start_date_str,\n",
    "        'pubEndDate': end_date_str,\n",
    "        'noRejected': None,\n",
    "        'cvssV3Severity': 'HIGH'  # Filter for high severity\n",
    "    }\n",
    "    response = requests.get(BASE_URL, headers=HEADERS, params=params)\n",
    "    \n",
    "    if response.status_code == 200:\n",
    "        try:\n",
    "            data = response.json()\n",
    "        except json.JSONDecodeError:\n",
    "            print(f'Error decoding JSON response at index {start_index}.')\n",
    "            print('Response text:', response.text)\n",
    "            break\n",
    "        \n",
    "        # Update pagination info\n",
    "        total_results = data.get('totalResults', 0)\n",
    "        start_index += RESULTS_PER_PAGE\n",
    "        \n",
    "        # Save each CVE record\n",
    "        for cve in data.get('vulnerabilities', []):\n",
    "            save_cve_record(cve, OUTPUT_DIR)\n",
    "        \n",
    "        print(f'Retrieved {len(data.get(\"vulnerabilities\", []))} CVE records. Total so far: {start_index}.')\n",
    "    else:\n",
    "        print(f'Failed to retrieve data: {response.status_code}')\n",
    "        print('Response text:', response.text)\n",
    "        break\n",
    "    \n",
    "    # Sleep for 6 seconds before the next request\n",
    "    time.sleep(SLEEP_TIME)\n",
    "\n",
    "print('Data retrieval and storage complete.')\n"
   ]
  },
  {
   "cell_type": "code",
   "execution_count": null,
   "id": "38416e6e-2cb3-489e-bbf5-74eca893f3b8",
   "metadata": {},
   "outputs": [],
   "source": []
  }
 ],
 "metadata": {
  "kernelspec": {
   "display_name": "Python 3 (ipykernel)",
   "language": "python",
   "name": "python3"
  },
  "language_info": {
   "codemirror_mode": {
    "name": "ipython",
    "version": 3
   },
   "file_extension": ".py",
   "mimetype": "text/x-python",
   "name": "python",
   "nbconvert_exporter": "python",
   "pygments_lexer": "ipython3",
   "version": "3.11.7"
  }
 },
 "nbformat": 4,
 "nbformat_minor": 5
}
