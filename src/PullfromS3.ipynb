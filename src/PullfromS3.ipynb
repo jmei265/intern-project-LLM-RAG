{
 "cells": [
  {
   "cell_type": "code",
   "execution_count": 3,
   "id": "25928fc3-b56e-49b2-b164-9bdc19a6865a",
   "metadata": {},
   "outputs": [],
   "source": [
    "import boto3\n",
    "import os\n",
    "import json\n",
    "\n",
    "def get_secret(secret_name):\n",
    "    client = boto3.client('secretsmanager', region_name='us-east-1')\n",
    "    response = client.get_secret_value(SecretId=secret_name)\n",
    "    secret = json.loads(response['SecretString'])\n",
    "    return secret\n",
    "\n",
    "def download_folder_from_s3(bucket_name, local_folder, s3_client):\n",
    "    os.makedirs(local_folder, exist_ok=True)\n",
    "    \n",
    "    paginator = s3_client.get_paginator('list_objects_v2')\n",
    "    for page in paginator.paginate(Bucket=bucket_name):\n",
    "        for obj in page.get('Contents', []):\n",
    "            s3_path = obj['Key']\n",
    "            local_path = os.path.join(local_folder, s3_path)\n",
    "            local_dir = os.path.dirname(local_path)\n",
    "            os.makedirs(local_dir, exist_ok=True)\n",
    "            try:\n",
    "                s3_client.download_file(bucket_name, s3_path, local_path)\n",
    "                print(f'Successfully downloaded s3://{bucket_name}/{s3_path} to {local_path}')\n",
    "            except Exception as e:\n",
    "                print(f'Failed to download s3://{bucket_name}/{s3_path} to {local_path}: {e}')\n",
    "\n",
    "# Retrieve secrets\n",
    "secret_name = \"S3InputBucket-RAG\"  # Replace with your secret name\n",
    "secrets = get_secret(secret_name)\n",
    "\n",
    "# Extract secrets\n",
    "bucket_name = secrets['bucket_name']\n",
    "role_arn = secrets['role_arn']\n",
    "\n",
    "# Set the local folder path for downloading\n",
    "local_folder_download = './test'\n",
    "\n",
    "# Create an STS client\n",
    "sts_client = boto3.client('sts')\n",
    "\n",
    "# Assume the role\n",
    "response = sts_client.assume_role(RoleArn=role_arn, RoleSessionName='AssumeRoleSession')\n",
    "credentials = response['Credentials']\n",
    "\n",
    "# Configure AWS SDK with temporary credentials\n",
    "s3_client = boto3.client('s3',\n",
    "                         aws_access_key_id=credentials['AccessKeyId'],\n",
    "                         aws_secret_access_key=credentials['SecretAccessKey'],\n",
    "                         aws_session_token=credentials['SessionToken'])\n",
    "\n",
    "# Call the function to download the folder\n",
    "# download_folder_from_s3(bucket_name, local_folder_download, s3_client)\n"
   ]
  }
 ],
 "metadata": {
  "kernelspec": {
   "display_name": "Python 3 (ipykernel)",
   "language": "python",
   "name": "python3"
  },
  "language_info": {
   "codemirror_mode": {
    "name": "ipython",
    "version": 3
   },
   "file_extension": ".py",
   "mimetype": "text/x-python",
   "name": "python",
   "nbconvert_exporter": "python",
   "pygments_lexer": "ipython3",
   "version": "3.10.13"
  }
 },
 "nbformat": 4,
 "nbformat_minor": 5
}
