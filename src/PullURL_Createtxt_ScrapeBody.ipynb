{
 "cells": [
  {
   "cell_type": "code",
   "execution_count": 2,
   "id": "313123e9-6f70-4fd2-a4ae-137f3adb231b",
   "metadata": {},
   "outputs": [
    {
     "name": "stdout",
     "output_type": "stream",
     "text": [
      "Extracted 1 exploit URLs from CVE-2024-3171.json.\n"
     ]
    },
    {
     "ename": "NameError",
     "evalue": "name 'output_file_txt' is not defined",
     "output_type": "error",
     "traceback": [
      "\u001b[0;31m---------------------------------------------------------------------------\u001b[0m",
      "\u001b[0;31mNameError\u001b[0m                                 Traceback (most recent call last)",
      "Cell \u001b[0;32mIn[2], line 64\u001b[0m\n\u001b[1;32m     61\u001b[0m  \u001b[38;5;28mprint\u001b[39m(\u001b[38;5;124mf\u001b[39m\u001b[38;5;124m\"\u001b[39m\u001b[38;5;124mExtracted \u001b[39m\u001b[38;5;132;01m{\u001b[39;00m\u001b[38;5;28mlen\u001b[39m(exploit_urls)\u001b[38;5;132;01m}\u001b[39;00m\u001b[38;5;124m exploit URLs from \u001b[39m\u001b[38;5;132;01m{\u001b[39;00mfilename\u001b[38;5;132;01m}\u001b[39;00m\u001b[38;5;124m.\u001b[39m\u001b[38;5;124m\"\u001b[39m)\n\u001b[1;32m     63\u001b[0m \u001b[38;5;66;03m# Ensure the output files are empty before writing\u001b[39;00m\n\u001b[0;32m---> 64\u001b[0m  \u001b[38;5;28;01mwith\u001b[39;00m \u001b[38;5;28mopen\u001b[39m(output_file_txt, \u001b[38;5;124m'\u001b[39m\u001b[38;5;124mw\u001b[39m\u001b[38;5;124m'\u001b[39m) \u001b[38;5;28;01mas\u001b[39;00m f:\n\u001b[1;32m     65\u001b[0m      f\u001b[38;5;241m.\u001b[39mwrite(\u001b[38;5;124m'\u001b[39m\u001b[38;5;124m'\u001b[39m)\n\u001b[1;32m     67\u001b[0m  \u001b[38;5;28;01mfor\u001b[39;00m url \u001b[38;5;129;01min\u001b[39;00m exploit_urls:\n",
      "\u001b[0;31mNameError\u001b[0m: name 'output_file_txt' is not defined"
     ]
    }
   ],
   "source": [
    "import json\n",
    "import os\n",
    "import requests\n",
    "from bs4 import BeautifulSoup\n",
    "import time\n",
    "\n",
    "# Directory containing JSON files\n",
    "json_dir = 'NVD_CVE_7-23'\n",
    "\n",
    "# Function to extract URLs tagged as \"exploit\" from a JSON file\n",
    "def extract_exploit_urls_from_json(json_file):\n",
    "    with open(json_file, 'r') as file:\n",
    "        data = json.load(file)\n",
    "        urls = []\n",
    "        references = data.get('cve', {}).get('references', [])\n",
    "        for ref in references:\n",
    "            if 'tags' in ref and 'Exploit' in ref['tags']:\n",
    "                urls.append(ref['url'])\n",
    "        return urls\n",
    "\n",
    "\n",
    "# Function to scrape content from a URL with a delay and save titles, headings, and body text to a file\n",
    "def scrape_url(url, output_file, delay=1):\n",
    "    try:\n",
    "        response = requests.get(url)\n",
    "        response.raise_for_status()\n",
    "        soup = BeautifulSoup(response.text, 'html.parser')\n",
    "        \n",
    "        title = soup.title.string if soup.title else 'No title found'\n",
    "        print(f\"Title: {title}\")\n",
    "        \n",
    "        headings = [heading.get_text() for heading in soup.find_all(['h1', 'h2', 'h3', 'h4', 'h5', 'h6'])]\n",
    "        body = soup.get_text()\n",
    "        \n",
    "        with open(output_file, 'a') as f:\n",
    "            f.write(f\"Title: {title}\\n\")\n",
    "            f.write(\"Headings:\\n\")\n",
    "            for heading in headings:\n",
    "                f.write(f\"{heading}\\n\")\n",
    "            f.write(\"Body:\\n\")\n",
    "            f.write(f\"{body}\\n\\n\")\n",
    "    except requests.RequestException as e:\n",
    "        print(f\"Failed to retrieve {url}: {e}\")\n",
    "    finally:\n",
    "        time.sleep(delay)  # Delay between requests\n",
    "\n",
    "# Collect and process each JSON file\n",
    "for filename in os.listdir(json_dir):\n",
    "    if filename.endswith('.json'):\n",
    "        json_file = os.path.join(json_dir, filename)\n",
    "        exploit_urls = extract_exploit_urls_from_json(json_file)\n",
    "        if exploit_urls:\n",
    "            output_file = os.path.join(json_dir, f\"{os.path.splitext(filename)[0]}.txt\")\n",
    "            print(f\"Extracted {len(exploit_urls)} exploit URLs from {filename}.\")\n",
    "            \n",
    "            # Ensure the output file is empty before writing\n",
    "            with open(output_file, 'w') as f:\n",
    "                f.write('')\n",
    "            \n",
    "            # Scrape content from all extracted \"exploit\" URLs with a delay and save titles, headings, and body text to the file\n",
    "            for url in exploit_urls:\n",
    "                scrape_url(url, output_file)\n"
   ]
  },
  {
   "cell_type": "code",
   "execution_count": null,
   "id": "f44e09ab-55fc-4244-a8e6-f045868ec8a9",
   "metadata": {},
   "outputs": [],
   "source": []
  }
 ],
 "metadata": {
  "kernelspec": {
   "display_name": "Python 3 (ipykernel)",
   "language": "python",
   "name": "python3"
  },
  "language_info": {
   "codemirror_mode": {
    "name": "ipython",
    "version": 3
   },
   "file_extension": ".py",
   "mimetype": "text/x-python",
   "name": "python",
   "nbconvert_exporter": "python",
   "pygments_lexer": "ipython3",
   "version": "3.11.7"
  }
 },
 "nbformat": 4,
 "nbformat_minor": 5
}
